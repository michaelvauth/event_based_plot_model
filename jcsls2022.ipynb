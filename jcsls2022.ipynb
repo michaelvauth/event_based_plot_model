{
 "cells": [
  {
   "cell_type": "code",
   "execution_count": null,
   "metadata": {},
   "outputs": [],
   "source": [
    "import narrpy.eval_by_summary as ebs\n",
    "import narrpy.visualize as narrvi\n",
    "import seaborn as sns\n",
    "import importlib"
   ]
  },
  {
   "cell_type": "markdown",
   "metadata": {},
   "source": [
    "### Plot Summary References"
   ]
  },
  {
   "cell_type": "code",
   "execution_count": null,
   "metadata": {},
   "outputs": [],
   "source": [
    "summary_files = [\n",
    "    'summary_annotations/student_summaries_erdbeben.json',\n",
    "    'summary_annotations/student_summaries_verwandlung.json',\n",
    "    'summary_annotations/student_summaries_judenbuche.json',\n",
    "    'summary_annotations/student_summaries_krambambuli.json'\n",
    "]\n",
    "\n",
    "for file in summary_files:\n",
    "    fig = narrvi.plot_student_summaries(summaries_file=file)\n",
    "    fig.show()"
   ]
  },
  {
   "cell_type": "markdown",
   "metadata": {},
   "source": [
    "## Plot Histogram of summary frequency for each text"
   ]
  },
  {
   "cell_type": "code",
   "execution_count": null,
   "metadata": {},
   "outputs": [],
   "source": [
    "narrvi.summary_histogramm(\n",
    "    directory='event_annotations_with_summary_data/')"
   ]
  },
  {
   "cell_type": "markdown",
   "metadata": {},
   "source": [
    "## Optimizing Methods"
   ]
  },
  {
   "cell_type": "markdown",
   "metadata": {},
   "source": [
    "### Narrativity Timelines for Kafka's *Metamorphosis* as an example for the impact of smoothing and event type scaling"
   ]
  },
  {
   "cell_type": "code",
   "execution_count": null,
   "metadata": {},
   "outputs": [],
   "source": [
    "narrvi.narrativity_graph_example(\n",
    "    'event_annotations_with_summary_data/event_summary_verwandlung.json'\n",
    ")"
   ]
  },
  {
   "cell_type": "markdown",
   "metadata": {},
   "source": [
    "### Narrativity of tellable events in Kafka's *Metamorphosis* as an example for the impact of smoothing and event type scaling"
   ]
  },
  {
   "cell_type": "code",
   "execution_count": null,
   "metadata": {},
   "outputs": [],
   "source": [
    "narrvi.narr_summary_heatmap(\n",
    "    'event_annotations_with_summary_data/event_summary_verwandlung.json'\n",
    ")"
   ]
  },
  {
   "cell_type": "markdown",
   "metadata": {},
   "source": [
    "## Optimization"
   ]
  },
  {
   "cell_type": "code",
   "execution_count": null,
   "metadata": {},
   "outputs": [],
   "source": [
    "summary_data_df = pd.read_json('summary_optimization_results/1750_narr_values_max_20.json')"
   ]
  },
  {
   "cell_type": "markdown",
   "metadata": {},
   "source": [
    "### Optimizing Smoothing"
   ]
  },
  {
   "cell_type": "code",
   "execution_count": null,
   "metadata": {},
   "outputs": [],
   "source": [
    "importlib.reload(narrvi)\n",
    "narrvi.correlation_boxplots(summary_data_df)"
   ]
  },
  {
   "cell_type": "code",
   "execution_count": null,
   "metadata": {},
   "outputs": [],
   "source": [
    "importlib.reload(ebs)\n",
    "ebs.get_best_configurations(\n",
    "    mean_corr_df=ebs.get_mean_value_per_configuration(summary_data_df)\n",
    ")"
   ]
  }
 ],
 "metadata": {
  "interpreter": {
   "hash": "87fea37bc2fc5e48df9c556e0c5d422e790f997aa4713ca3dbac94eb0b0e073b"
  },
  "kernelspec": {
   "display_name": "Python 3.8.10 64-bit (windows store)",
   "language": "python",
   "name": "python3"
  },
  "language_info": {
   "codemirror_mode": {
    "name": "ipython",
    "version": 3
   },
   "file_extension": ".py",
   "mimetype": "text/x-python",
   "name": "python",
   "nbconvert_exporter": "python",
   "pygments_lexer": "ipython3",
   "version": "3.8.10"
  },
  "orig_nbformat": 4
 },
 "nbformat": 4,
 "nbformat_minor": 2
}
